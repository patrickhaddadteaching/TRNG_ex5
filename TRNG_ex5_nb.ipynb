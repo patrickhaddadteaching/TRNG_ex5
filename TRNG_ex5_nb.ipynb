{
 "cells": [
  {
   "cell_type": "code",
   "execution_count": 1,
   "metadata": {},
   "outputs": [],
   "source": [
    "from ipywidgets import interact, interact_manual, widgets, Label\n",
    "import numpy as np\n",
    "import functools\n",
    "from time import time, sleep\n",
    "from os import system, listdir\n",
    "import h5py"
   ]
  },
  {
   "cell_type": "code",
   "execution_count": 2,
   "metadata": {},
   "outputs": [
    {
     "data": {
      "text/plain": [
       "0"
      ]
     },
     "execution_count": 2,
     "metadata": {},
     "output_type": "execute_result"
    }
   ],
   "source": [
    "s_url='https://github.com/patrickhaddadteaching/TRNG_ex2/raw/main/data/data_for_ex2.zip'\n",
    "a=system('wget %s>test.log'%s_url)\n",
    "#a=system('cp zips/data_for_ex2.zip . >test.log')\n",
    "a=system('unzip data_for_ex2.zip > test.log')\n",
    "system('rm -Rf data_for_ex2.zip')"
   ]
  },
  {
   "cell_type": "code",
   "execution_count": 3,
   "metadata": {},
   "outputs": [],
   "source": [
    "hdf5_file = 'data_for_ex2.h5'\n",
    "data_file = h5py.File(hdf5_file,'r')\n",
    "v_ratio_period_sample_for_interact=np.array(data_file['parameters/v_ratio_period_sample'][0,:],dtype=np.uint32)\n",
    "v_jitter_for_interact=data_file['parameters/v_jitter'][0,:]\n",
    "v_raw_rng_image=data_file['images/rng_image'][0,:]\n",
    "m_raw_bits_from_one_RO=data_file['raw_bits/m_raw_bits_from_one_RO'][:]\n",
    "data_file.close()\n",
    "system('rm -Rf %s'%hdf5_file)\n",
    "nb_test_per_corner=m_raw_bits_from_one_RO.shape[3]\n",
    "nb_bits=m_raw_bits_from_one_RO.shape[4]\n",
    "nb_osc=m_raw_bits_from_one_RO.shape[0]"
   ]
  },
  {
   "cell_type": "code",
   "execution_count": 4,
   "metadata": {},
   "outputs": [],
   "source": [
    "width_png=547\n",
    "height_png=400"
   ]
  },
  {
   "cell_type": "code",
   "execution_count": 5,
   "metadata": {},
   "outputs": [],
   "source": [
    "image_height=250\n",
    "image_width=int(width_png*image_height/height_png)\n",
    "raw_bytes_width=100\n",
    "tests_results_width=300"
   ]
  },
  {
   "cell_type": "code",
   "execution_count": 6,
   "metadata": {},
   "outputs": [],
   "source": [
    "def run_fips_tests(v_bits):\n",
    "    len_v_bits=v_bits.shape[0]\n",
    "    nb_nibble=int((v_bits.shape[0])/4)\n",
    "    v_nibble=np.zeros((nb_nibble,),dtype=np.uint8)\n",
    "    for i in range(4):\n",
    "        v_nibble+=np.array(v_bits[i:4*nb_nibble:4],dtype=np.uint8)*(2**i)\n",
    "\n",
    "    T1=v_bits.sum()\n",
    "\n",
    "    T2=0\n",
    "    for j in range(16):\n",
    "        fj=(v_nibble==j).sum()\n",
    "        T2+=((fj-5000.0/16)**2)/(5000.0/16)\n",
    "\n",
    "    nb_lambda=32\n",
    "    m_T3=np.zeros((nb_lambda,2),dtype=np.float64)\n",
    "    for lambda_i in range(nb_lambda):\n",
    "        word_size_in_bits=lambda_i+3\n",
    "\n",
    "        nb_words=int(len_v_bits-word_size_in_bits)\n",
    "        v_words=np.zeros((nb_words,),dtype=np.uint64)\n",
    "        for i in range(word_size_in_bits):\n",
    "            v_words+=np.array(v_bits[i:i+nb_words],dtype=np.uint8)*(2**i)    \n",
    "\n",
    "        patern_0=2**(word_size_in_bits-1)+1\n",
    "        patern_1=(2**(word_size_in_bits)-2**(word_size_in_bits-1)-2)\n",
    "        m_T3[lambda_i,0]=(v_words==patern_0).sum()\n",
    "        m_T3[lambda_i,1]=(v_words==patern_1).sum()\n",
    "\n",
    "    lambda_T4=34\n",
    "    v_sum=np.zeros((len_v_bits-lambda_T4,),dtype=np.uint64)\n",
    "    for i in range(lambda_T4):\n",
    "        v_sum+=v_bits[i:len_v_bits-lambda_T4+i]\n",
    "\n",
    "    T4_PS=((v_sum==0) | (v_sum==lambda_T4)).sum()\n",
    "\n",
    "    v_T5=np.zeros((5000,),dtype=np.uint64)\n",
    "    for tau in range(5000):\n",
    "        v_T5[tau]=(v_bits[:5000]^v_bits[tau+1:tau+5000+1]).sum()\n",
    "    return (T1,T2,[[m_T3[0,0],m_T3[0,1]],[m_T3[1,0],m_T3[1,1]],[m_T3[2,0],m_T3[2,1]],[m_T3[3,0],m_T3[3,1]],[m_T3[4,0],m_T3[4,1]],[m_T3[5:,0].sum(),m_T3[5:,1].sum()]],T4_PS,v_T5)\n",
    "\n",
    "\n",
    "s_label_test_init='<p><b>Procedure A of AIS31</b></p>'\n",
    "s_label_test_init='%s<p><b>*****************************************</b></p>'%(s_label_test_init)   \n",
    "\n",
    "def log_fips_tests(T1,T2,M_T3,T4_PS,v_T5):\n",
    "    s_color_code_succeed='00FF00'\n",
    "    s_color_code_failed='FF0000'  \n",
    "    \n",
    "    s_label_test=s_label_test_init\n",
    "\n",
    "    if abs(T1-nb_bits/2)<346:\n",
    "        s_label_test='%s<p style=\"color:#00FF00\";><b>Monobit Test Succeed</b></p>'%(s_label_test)\n",
    "    else:\n",
    "        s_label_test='%s<p style=\"color:#FF0000\";><b>Monobit Test Failed</b></p>'%(s_label_test)\n",
    "\n",
    "    if (T2<57.4)&(T2>1.03):\n",
    "        s_label_test='%s<p style=\"color:#00FF00\";><b>Poker Test Succeed</b></p>'%(s_label_test)        \n",
    "    else:\n",
    "        s_label_test='%s<p style=\"color:#FF0000\";><b>Poker Test Failed</b></p>'%(s_label_test)\n",
    "\n",
    "    m_T3_bounds=[[2267,2733],[1079,1421],[502,748],[223,402],[90,223],[90,223]]\n",
    "    cnt_error=0\n",
    "    for b in range(2):\n",
    "        for i in range(6):\n",
    "            if (M_T3[i][b]<m_T3_bounds[i][1])&(M_T3[i][b]>m_T3_bounds[i][0]):\n",
    "                cnt_error+=1\n",
    "                \n",
    "    if (cnt_error>0):\n",
    "        s_label_test='%s<p style=\"color:#00FF00\";><b>Runs Test Succeed</b></p>'%(s_label_test)     \n",
    "    else:\n",
    "        s_label_test='%s<p style=\"color:#FF0000\";><b>Runs Test Failed</b></p>'%(s_label_test)\n",
    "\n",
    "        \n",
    "    if (T4_PS==False):\n",
    "        s_label_test='%s<p style=\"color:#00FF00\";><b>Long Runs Test Succeed</b></p>'%(s_label_test)        \n",
    "    else:\n",
    "        s_label_test='%s<p style=\"color:#FF0000\";><b>Long Runs Test Failed</b></p>'%(s_label_test)\n",
    "        \n",
    "    T5=v_T5.max()\n",
    "    if (T5<2674)&(T5>2326):\n",
    "        s_label_test='%s<p style=\"color:#00FF00\";><b>Autocorrelation Test Succeed</b></p>'%(s_label_test)\n",
    "    else:\n",
    "        s_label_test='%s<p style=\"color:#FF0000\";><b>Autocorrelation Test Failed</b></p>'%(s_label_test)\n",
    "    \n",
    "    return s_label_test"
   ]
  },
  {
   "cell_type": "code",
   "execution_count": 7,
   "metadata": {},
   "outputs": [
    {
     "data": {
      "application/vnd.jupyter.widget-view+json": {
       "model_id": "19c97d73f08b464291716ecbd3010196"
      }
     },
     "metadata": {},
     "output_type": "display_data"
    },
    {
     "name": "stdout",
     "output_type": "stream",
     "text": [
      "['.ipynb_checkpoints', 'Exercise_1.ipynb', 'Exercise_2.ipynb', 'Exercise_5.ipynb', 'figures', 'generate_constants_entropies_several_osc_on one_hdf5.ipynb', 'generate_constants_one_osc_on one_hdf5.ipynb', 'generate_constants_one_osc_on one_hdf5.py', 'generate_constants_several_osc_on one_hdf5.ipynb', 'generate_constants_several_osc_on one_hdf5.py', 'randomvalues.txt', 'sampling_proba_entropy_2osc.R', 'test.log', 'test.txt', 'tmp_ex1.svg', 'tmp_ex2.svg', 'TRNG_ex1_nb.ipynb', 'TRNG_ex1_nb_v0.1.ipynb', 'TRNG_ex2_nb.ipynb', 'TRNG_ex2_nb_v0.1.ipynb', 'TRNG_ex3_nb.ipynb', 'TRNG_ex4_nb.ipynb', 'TRNG_ex5_nb.ipynb', 'TRNG_ex5_nb_v0.1.ipynb', 'Untitled.ipynb', 'zips']\n",
      "['.ipynb_checkpoints', 'Exercise_1.ipynb', 'Exercise_2.ipynb', 'Exercise_5.ipynb', 'figures', 'generate_constants_entropies_several_osc_on one_hdf5.ipynb', 'generate_constants_one_osc_on one_hdf5.ipynb', 'generate_constants_one_osc_on one_hdf5.py', 'generate_constants_several_osc_on one_hdf5.ipynb', 'generate_constants_several_osc_on one_hdf5.py', 'randomvalues.txt', 'sampling_proba_entropy_2osc.R', 'test.log', 'test.txt', 'tmp_ex1.svg', 'tmp_ex2.svg', 'TRNG_ex1_nb.ipynb', 'TRNG_ex1_nb_v0.1.ipynb', 'TRNG_ex2_nb.ipynb', 'TRNG_ex2_nb_v0.1.ipynb', 'TRNG_ex3_nb.ipynb', 'TRNG_ex4_nb.ipynb', 'TRNG_ex5_nb.ipynb', 'TRNG_ex5_nb_v0.1.ipynb', 'Untitled.ipynb', 'zips']\n"
     ]
    }
   ],
   "source": [
    "\n",
    "sample_period_value_widgets=widgets.SelectionSlider(description=r'\\(D\\)',options=list(v_ratio_period_sample_for_interact),layout=widgets.Layout(width='%dpx'%(image_height+raw_bytes_width)),readout_format='.1f')\n",
    "m_value_widgets=widgets.SelectionSlider(description=r'\\(m\\)',options=list(np.arange(nb_osc,dtype=np.uint8)+1),layout=widgets.Layout(width='%dpx'%(image_height+raw_bytes_width)))\n",
    "std_dev_value_widgets=widgets.SelectionSlider(description=r'\\(\\frac{\\sigma_{tot}}{T_{1}}\\)',options=list(v_jitter_for_interact),layout=widgets.Layout(width='%dpx'%(image_height+raw_bytes_width)))\n",
    "\n",
    "rng_image=widgets.Image(value=v_raw_rng_image.tobytes(), format='png',layout=widgets.Layout(height='%dpx'%(image_height),width='%dpx'%image_width))\n",
    "tests_results=widgets.HTML(value=s_label_test_init,placeholder='',description='',disabled=True,layout=widgets.Layout(height='%dpx'%(image_height),width='auto'))\n",
    "space_for_tests_results=widgets.HTML(value='',placeholder='',description='',disabled=True,layout=widgets.Layout(height='%dpx'%image_height,width='%dpx'%(raw_bytes_width/6) ))\n",
    "raw_bytes=widgets.Textarea(value='',rows=5000,placeholder='',description='',disabled=True,layout=widgets.Layout(height='%dpx'%(image_height),width='%dpx'%(image_width/4)))\n",
    "\n",
    "float_bar=widgets.FloatProgress(value=0.0,min=0.0, max=100.0,description='',bar_style='info',style={'bar_color': '#ff0000'},orientation='horizontal',layout=widgets.Layout(width='%dpx'%tests_results_width))\n",
    "val_button=widgets.Button(description = 'GENERATE RANDOM VALUES',layout=widgets.Layout(width='%dpx'%tests_results_width))\n",
    "val_button.style.button_color = 'gray'\n",
    "\n",
    "def generate_rnd(b):\n",
    "    raw_bytes.value=''\n",
    "    chosen_sample_period=sample_period_value_widgets.value\n",
    "    chosen_jitter=std_dev_value_widgets.value\n",
    "    chosen_m=m_value_widgets.value    \n",
    "    \n",
    "    index_sample_period=np.where(chosen_sample_period==v_ratio_period_sample_for_interact)[0][0]\n",
    "    index_chosen_jitter=np.where(chosen_jitter==v_jitter_for_interact)[0][0]\n",
    "\n",
    "    v_raw_bits=np.zeros((nb_bits,),dtype=np.bool)\n",
    "    for i in range(chosen_m):\n",
    "        tmp_rand=np.random.randint(0,nb_test_per_corner,dtype=np.uint32)\n",
    "        v_raw_bits^=m_raw_bits_from_one_RO[i-1,index_chosen_jitter,index_sample_period,tmp_rand,:]\n",
    "        \n",
    "    nb_nibble=int((nb_bits)/4)\n",
    "    v_nibble=np.zeros((nb_nibble,),dtype=np.uint8)\n",
    "    for i in range(4):\n",
    "        v_nibble+=np.array(v_raw_bits[i:4*nb_nibble:4],dtype=np.uint8)*(2**i)\n",
    "    s_line=''\n",
    "    for i in range(nb_nibble):\n",
    "        s_line='%s%X'%(s_line,v_nibble[i])\n",
    "    raw_bytes.value=s_line   \n",
    "\n",
    "    (T1_o,T2_o,M_T3_o,T4_PS_o,v_T5_o)=run_fips_tests(v_raw_bits)\n",
    "    tests_results.value=log_fips_tests(T1_o,T2_o,M_T3_o,T4_PS_o,v_T5_o)\n",
    "    \n",
    "    float_bar.value=0\n",
    "    time_to_sleep=0.01\n",
    "    for i in range(100):\n",
    "        sleep(time_to_sleep)\n",
    "        float_bar.value=(i+1)\n",
    "val_button.on_click(generate_rnd, remove=False) \n",
    "v_box_top=widgets.VBox([widgets.HBox([rng_image,raw_bytes,space_for_tests_results,tests_results]),widgets.VBox([widgets.HBox([widgets.VBox([m_value_widgets,std_dev_value_widgets,sample_period_value_widgets]),widgets.VBox([val_button,float_bar])])])])\n",
    "display(v_box_top)"
   ]
  },
  {
   "cell_type": "code",
   "execution_count": null,
   "metadata": {},
   "outputs": [],
   "source": []
  }
 ],
 "metadata": {
  "kernelspec": {
   "display_name": "Python 3",
   "language": "python",
   "name": "python3"
  },
  "language_info": {
   "codemirror_mode": {
    "name": "ipython",
    "version": 3
   },
   "file_extension": ".py",
   "mimetype": "text/x-python",
   "name": "python",
   "nbconvert_exporter": "python",
   "pygments_lexer": "ipython3",
   "version": "3.6.9"
  }
 },
 "nbformat": 4,
 "nbformat_minor": 2
}
